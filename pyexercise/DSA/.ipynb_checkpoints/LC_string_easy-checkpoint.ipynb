{
 "cells": [
  {
   "cell_type": "code",
   "execution_count": 20,
   "metadata": {},
   "outputs": [
    {
     "data": {
      "text/plain": [
       "'192[.]168[.]0[.]1'"
      ]
     },
     "execution_count": 20,
     "metadata": {},
     "output_type": "execute_result"
    }
   ],
   "source": [
    "def Q1108(s):\n",
    "    return s.replace('.', '[.]')\n",
    "\n",
    "s = '192.168.0.1'\n",
    "\n",
    "Q1108(s)"
   ]
  },
  {
   "cell_type": "code",
   "execution_count": 19,
   "metadata": {},
   "outputs": [
    {
     "data": {
      "text/plain": [
       "4"
      ]
     },
     "execution_count": 19,
     "metadata": {},
     "output_type": "execute_result"
    }
   ],
   "source": [
    "def Q1221(s):\n",
    "    count = 0\n",
    "    num = 0\n",
    "    for ch in s:\n",
    "        if ch == 'R':\n",
    "            count += 1\n",
    "        if ch == 'L':\n",
    "            count -= 1\n",
    "        if count == 0:\n",
    "            num += 1\n",
    "    return num\n",
    "\n",
    "s = \"RLRRLLRLRL\"\n",
    "Q1221(s)\n"
   ]
  },
  {
   "cell_type": "code",
   "execution_count": 22,
   "metadata": {},
   "outputs": [
    {
     "data": {
      "text/plain": [
       "'hello'"
      ]
     },
     "execution_count": 22,
     "metadata": {},
     "output_type": "execute_result"
    }
   ],
   "source": [
    "def q709(s):\n",
    "    return s.lower()\n",
    "\n",
    "q709('HELLo')"
   ]
  },
  {
   "cell_type": "code",
   "execution_count": 62,
   "metadata": {},
   "outputs": [
    {
     "data": {
      "text/plain": [
       "'cdelotee'"
      ]
     },
     "execution_count": 62,
     "metadata": {},
     "output_type": "execute_result"
    }
   ],
   "source": [
    "def q1370(s):\n",
    "    \n",
    "    res = ''\n",
    "    d = [0]*26\n",
    "    for ch in s:\n",
    "        d[ord(ch) - ord('a')] += 1\n",
    "    while d != [0]*26:\n",
    "        for i in range(26):\n",
    "            if d[i] > 0:\n",
    "                res += (chr(i + ord('a')))\n",
    "                d[i] -= 1\n",
    "        for i in reversed(range(26)):\n",
    "            if d[i] > 0:\n",
    "                res += (chr(i + ord('a')))\n",
    "                d[i] -= 1\n",
    "    return res\n",
    "\n",
    "s = \"leetcode\"\n",
    "q1370(s)"
   ]
  },
  {
   "cell_type": "code",
   "execution_count": 1,
   "metadata": {
    "scrolled": false
   },
   "outputs": [
    {
     "data": {
      "text/plain": [
       "'aaab'"
      ]
     },
     "execution_count": 1,
     "metadata": {},
     "output_type": "execute_result"
    }
   ],
   "source": [
    "def q1374(n):\n",
    "    return ''.join(['a']*n) if n%2 == 1 else ''.join(['a']*(n-1))+'b'\n",
    "\n",
    "q1374(4)"
   ]
  },
  {
   "cell_type": "code",
   "execution_count": 3,
   "metadata": {},
   "outputs": [
    {
     "name": "stdout",
     "output_type": "stream",
     "text": [
      "{1: 'a', 2: 'b', 3: 'c', 4: 'd', 5: 'e', 6: 'f', 7: 'g', 8: 'h', 9: 'i', '10#': 'j', '11#': 'k', '12#': 'l', '13#': 'm', '14#': 'n', '15#': 'o', '16#': 'p', '17#': 'q', '18#': 'r', '19#': 's', '20#': 't', '21#': 'u', '22#': 'v', '23#': 'w', '24#': 'x', '25#': 'y', '26#': 'z'}\n"
     ]
    }
   ],
   "source": [
    "hashmap = {}\n",
    "alphabet = 'abcdefghijklmnopqrstuvwxyz'\n",
    "for number, ch in enumerate(alphabet, start=1):\n",
    "    if number <= 9:\n",
    "        hashmap[number] = ch\n",
    "    else:\n",
    "        hashmap[str(number)+'#'] = ch\n",
    "print(hashmap)        \n",
    "   \n",
    "    "
   ]
  },
  {
   "cell_type": "code",
   "execution_count": 8,
   "metadata": {},
   "outputs": [
    {
     "name": "stdout",
     "output_type": "stream",
     "text": [
      "['2', '1', '11#', '10#']\n"
     ]
    }
   ],
   "source": [
    "s = \"10#11#12\"\n",
    "\n",
    "\n",
    "length=len(string)\n",
    "solution=[]\n",
    "counter=0\n",
    "\n",
    "while(counter!=length):\n",
    "    if(string[counter]!='#'):\n",
    "        solution.append(string[counter])\n",
    "        counter+=1\n",
    "    else:\n",
    "        solution.append(string[counter:counter+3][::-1])\n",
    "        counter+=3\n",
    "# solution=solution[::-1]\n",
    "print(solution)"
   ]
  },
  {
   "cell_type": "code",
   "execution_count": 48,
   "metadata": {},
   "outputs": [
    {
     "data": {
      "text/plain": [
       "'jkab'"
      ]
     },
     "execution_count": 48,
     "metadata": {},
     "output_type": "execute_result"
    }
   ],
   "source": [
    "s = \"10#11#12\"\n",
    "\n",
    "def q1309(s):\n",
    "    string =''\n",
    "    index = len(s)-1\n",
    "\n",
    "    while index>=0:\n",
    "\n",
    "        if s[index] == '#':\n",
    "            letter = chr(int(s[index-2:index])+96)\n",
    "            index -= 3\n",
    "\n",
    "        else:\n",
    "            letter = chr(int(s[index])+96)\n",
    "            index -= 1\n",
    "\n",
    "        string += letter\n",
    "        \n",
    "    return string[::-1]\n",
    "\n",
    "q1309(s)\n",
    "\n",
    "    \n",
    "\n"
   ]
  },
  {
   "cell_type": "code",
   "execution_count": 56,
   "metadata": {},
   "outputs": [
    {
     "data": {
      "text/plain": [
       "True"
      ]
     },
     "execution_count": 56,
     "metadata": {},
     "output_type": "execute_result"
    }
   ],
   "source": [
    "s = 'UDLR'\n",
    "def compare(s):\n",
    "    return s.count('U')==s.count('D') and s.count('L')==s.count('R')\n",
    "    \n",
    "\n",
    "compare(s)"
   ]
  },
  {
   "cell_type": "code",
   "execution_count": 70,
   "metadata": {},
   "outputs": [
    {
     "data": {
      "text/plain": [
       "\"s'teL ekat edoCteeL tsetnoc\""
      ]
     },
     "execution_count": 70,
     "metadata": {},
     "output_type": "execute_result"
    }
   ],
   "source": [
    "s = \"Let's take LeetCode contest\"\n",
    "def func(s):\n",
    "    l = s.split(' ')\n",
    "    for i in range(len(l)):\n",
    "        l[i] = l[i][::-1]\n",
    "    return ' '.join(l)\n",
    "    \n",
    "func(s)\n",
    "    \n",
    "    \n",
    "\n",
    "    "
   ]
  },
  {
   "cell_type": "code",
   "execution_count": null,
   "metadata": {},
   "outputs": [],
   "source": [
    "s = [\"test.email+alex@leetcode.com\",\"test.e.mail+bob.cathy@leetcode.com\",\"testemail+david@lee.tcode.com\"]\n",
    "\n",
    "for address in s:\n",
    "    \n",
    "\n"
   ]
  },
  {
   "cell_type": "code",
   "execution_count": 52,
   "metadata": {},
   "outputs": [
    {
     "name": "stdout",
     "output_type": "stream",
     "text": [
      "['testemail@leetcode.com', 'testemail1@leetcode.com', 'testemail@lee.tcode.com']\n"
     ]
    }
   ],
   "source": [
    "emails = [\"t.estemail@leetcode.com\",\"testemail1@leetcode.com\",\"testemail+david@lee.tcode.com\"]\n",
    "\n",
    "result=[]\n",
    "\n",
    "for email in emails:\n",
    "    temp=email.split('@')\n",
    "    add1=temp[0].replace('.','')\n",
    "    add1=add1.split('+')[0]\n",
    "    result.append(add1+'@'+temp[1])\n",
    "print(result)\n",
    "    \n",
    "    \n",
    "\n",
    "    \n"
   ]
  },
  {
   "cell_type": "code",
   "execution_count": 60,
   "metadata": {
    "scrolled": true
   },
   "outputs": [
    {
     "name": "stdout",
     "output_type": "stream",
     "text": [
      "['t.este+mail', 'leetcode.com']\n",
      "teste+mail\n",
      "teste\n"
     ]
    }
   ],
   "source": [
    "a = 't.este+mail@leetcode.com'\n",
    "result=[]\n",
    "temp = a.split('@')\n",
    "print(temp)\n",
    "add1 = temp[0].replace('.', '')\n",
    "print(add1)\n",
    "add1 = add1.split('+')[0]\n",
    "print(add1)\n",
    "result.append(add1+'@'+temp[1])"
   ]
  },
  {
   "cell_type": "code",
   "execution_count": 20,
   "metadata": {},
   "outputs": [
    {
     "ename": "TypeError",
     "evalue": "unsupported operand type(s) for -=: 'str' and 'int'",
     "output_type": "error",
     "traceback": [
      "\u001b[1;31m---------------------------------------------------------------------------\u001b[0m",
      "\u001b[1;31mTypeError\u001b[0m                                 Traceback (most recent call last)",
      "\u001b[1;32m<ipython-input-20-fe8b5bfad536>\u001b[0m in \u001b[0;36m<module>\u001b[1;34m\u001b[0m\n\u001b[0;32m      6\u001b[0m     \u001b[0ms\u001b[0m\u001b[1;33m[\u001b[0m\u001b[0mi\u001b[0m\u001b[1;33m]\u001b[0m\u001b[1;33m,\u001b[0m \u001b[1;33m[\u001b[0m\u001b[0mj\u001b[0m\u001b[1;33m]\u001b[0m \u001b[1;33m=\u001b[0m \u001b[0ms\u001b[0m\u001b[1;33m[\u001b[0m\u001b[0mj\u001b[0m\u001b[1;33m]\u001b[0m\u001b[1;33m,\u001b[0m \u001b[0ms\u001b[0m\u001b[1;33m[\u001b[0m\u001b[0mi\u001b[0m\u001b[1;33m]\u001b[0m\u001b[1;33m\u001b[0m\u001b[1;33m\u001b[0m\u001b[0m\n\u001b[0;32m      7\u001b[0m \u001b[1;33m\u001b[0m\u001b[0m\n\u001b[1;32m----> 8\u001b[1;33m     \u001b[0mj\u001b[0m \u001b[1;33m-=\u001b[0m \u001b[1;36m1\u001b[0m\u001b[1;33m\u001b[0m\u001b[1;33m\u001b[0m\u001b[0m\n\u001b[0m\u001b[0;32m      9\u001b[0m     \u001b[0mi\u001b[0m \u001b[1;33m+=\u001b[0m \u001b[1;36m1\u001b[0m\u001b[1;33m\u001b[0m\u001b[1;33m\u001b[0m\u001b[0m\n\u001b[0;32m     10\u001b[0m \u001b[1;33m\u001b[0m\u001b[0m\n",
      "\u001b[1;31mTypeError\u001b[0m: unsupported operand type(s) for -=: 'str' and 'int'"
     ]
    }
   ],
   "source": [
    "s = [\"h\",\"e\",\"l\",\"l\",\"o\"]\n",
    "i = 0\n",
    "j = -1\n",
    "while(i<int(len(s)/2)):\n",
    "    \n",
    "    s[i], [j] = s[j], s[i]\n",
    "    \n",
    "    j -= 1\n",
    "    i += 1\n",
    "    \n",
    "print(s)"
   ]
  },
  {
   "cell_type": "code",
   "execution_count": 22,
   "metadata": {},
   "outputs": [
    {
     "name": "stdout",
     "output_type": "stream",
     "text": [
      "['Imaa', 'peaksmaaa', 'oatGmaaaa', 'atinLmaaaaa']\n"
     ]
    }
   ],
   "source": [
    "s = \"I speak Goat Latin\"\n",
    "A = s.split(' ')\n",
    "B = []\n",
    "\n",
    "for i, word in enumerate(A):\n",
    "    length = i+1\n",
    "    \n",
    "    if word[0] in 'AOUEIaouei':\n",
    "        word += 'ma'\n",
    "        word += ('a'*length)\n",
    "        \n",
    "    else:\n",
    "        word += word[0]+'ma'\n",
    "        word = word[1:] + 'a'*length\n",
    "\n",
    "    B.append(word)\n",
    "    \n",
    "print(B)"
   ]
  },
  {
   "cell_type": "code",
   "execution_count": 24,
   "metadata": {},
   "outputs": [
    {
     "data": {
      "text/plain": [
       "Counter({'d': 1, 'g': 2, 'r': 2, 'q': 2, 'h': 1, 'e': 1})"
      ]
     },
     "execution_count": 24,
     "metadata": {},
     "output_type": "execute_result"
    }
   ],
   "source": [
    "from collections import Counter\n",
    "Counter('dgrqhgqre')"
   ]
  },
  {
   "cell_type": "code",
   "execution_count": 82,
   "metadata": {},
   "outputs": [
    {
     "name": "stdout",
     "output_type": "stream",
     "text": [
      "[1, 2, 3]\n"
     ]
    }
   ],
   "source": [
    "\n",
    "queries = [\"bbb\",\"cc\", \"d\"]\n",
    "words = [\"a\",\"aa\",\"aaa\",\"aaaa\"]\n",
    "\n",
    "def num(s):\n",
    "    s1 = ''.join(sorted([ch for ch in s]))\n",
    "    return s1.count(s1[0])\n",
    "\n",
    "res = []\n",
    "\n",
    "for query in queries:\n",
    "    count = 0\n",
    "    for word in words:\n",
    "        if num(query) < num(word):\n",
    "            count += 1\n",
    "    res.append(count)\n",
    "        \n",
    "print(res)\n",
    "            \n"
   ]
  },
  {
   "cell_type": "code",
   "execution_count": 80,
   "metadata": {},
   "outputs": [
    {
     "name": "stdout",
     "output_type": "stream",
     "text": [
      "[1]\n"
     ]
    }
   ],
   "source": [
    "queries = [\"cbd\"]\n",
    "words = [\"zaaaz\"]\n",
    "\n",
    "def num(s):\n",
    "    s1 = ''.join(sorted([ch for ch in s]))\n",
    "    return s1.count(s1[0])\n",
    "\n",
    "res = []\n",
    "\n",
    "for query in queries:\n",
    "    count = 0\n",
    "    for word in words:\n",
    "        if num(query) < num(word):\n",
    "            count += 1\n",
    "    res.append(count)\n",
    "        \n",
    "print(res)"
   ]
  },
  {
   "cell_type": "code",
   "execution_count": 10,
   "metadata": {},
   "outputs": [
    {
     "data": {
      "text/plain": [
       "3"
      ]
     },
     "execution_count": 10,
     "metadata": {},
     "output_type": "execute_result"
    }
   ],
   "source": [
    "def num(s):\n",
    "    s1 = ''.join(sorted(list(s)))\n",
    "    return s1.count(s1[0])\n",
    "\n",
    "num('zaaaz')"
   ]
  },
  {
   "cell_type": "code",
   "execution_count": 36,
   "metadata": {},
   "outputs": [
    {
     "data": {
      "text/plain": [
       "'abc'"
      ]
     },
     "execution_count": 36,
     "metadata": {},
     "output_type": "execute_result"
    }
   ],
   "source": [
    "l = ['a','b','c']\n",
    "''.join(l)"
   ]
  },
  {
   "cell_type": "code",
   "execution_count": 45,
   "metadata": {
    "scrolled": true
   },
   "outputs": [
    {
     "name": "stdout",
     "output_type": "stream",
     "text": [
      "j<*zz\n"
     ]
    }
   ],
   "source": [
    "# s = \"a-bC-dEf-ghIj\"\n",
    "\n",
    "s = \"z<*zj\"\n",
    "# s = \"ab-cd\"\n",
    "\n",
    "A = list(s)\n",
    "fn1 = lambda ch: ord(ch) in [x for x in range(65, 91)] \n",
    "fn2 = lambda ch: ord(ch) in [x for x in range(97, 123)] \n",
    "i = 0\n",
    "j = len(A)-1\n",
    "while i<j:\n",
    "    if (fn1(A[i]) or fn2(A[i])) and (fn1(A[j]) or fn2(A[j])):\n",
    "        A[i], A[j] = A[j], A[i]\n",
    "        i += 1\n",
    "        j -= 1\n",
    "    elif fn1(A[j]) or fn2(A[j]):\n",
    "        i += 1\n",
    "    elif fn1(A[i]) or fn2(A[i]):\n",
    "        j -= 1\n",
    "    else:\n",
    "        i += 1\n",
    "        j -= 1\n",
    "           \n",
    "print(''.join(A))\n",
    "\n"
   ]
  },
  {
   "cell_type": "code",
   "execution_count": 51,
   "metadata": {},
   "outputs": [
    {
     "data": {
      "text/plain": [
       "0"
      ]
     },
     "execution_count": 51,
     "metadata": {},
     "output_type": "execute_result"
    }
   ],
   "source": [
    "# s ='ababbbbbaaaabababababa'\n",
    "\n",
    "s =''\n",
    "\n",
    "def fun(s):\n",
    "    if len(s) == 0:\n",
    "        return 0\n",
    "    else:\n",
    "        if s == s[::-1]:\n",
    "            return 1\n",
    "        else:\n",
    "            return 2\n",
    "\n",
    "def fun1(s):\n",
    "    return 0 if len(s)==0 else 1 if s==s[::-1] else 2\n",
    "        \n",
    "        \n",
    "fun1(s)\n",
    "    \n",
    "\n",
    "    \n",
    "\n",
    "\n",
    "    \n",
    "    "
   ]
  },
  {
   "cell_type": "code",
   "execution_count": 68,
   "metadata": {},
   "outputs": [
    {
     "name": "stdout",
     "output_type": "stream",
     "text": [
      "2320\n"
     ]
    }
   ],
   "source": [
    "nums = 10000\n",
    "count = 0\n",
    "for num in range(1, nums+1):\n",
    "    s = str(num)\n",
    "    if any(x in '347' for x in s):\n",
    "        continue\n",
    "    if all(x in '018' for x in s):\n",
    "        continue\n",
    "    count += 1\n",
    "        \n",
    "print(count)\n",
    "\n"
   ]
  },
  {
   "cell_type": "code",
   "execution_count": 22,
   "metadata": {},
   "outputs": [
    {
     "name": "stdout",
     "output_type": "stream",
     "text": [
      "00 10 11100 11\n",
      "00 1 0 111 00 11\n",
      "['00', '1', '0', '111', '00', '11']\n",
      "7\n"
     ]
    }
   ],
   "source": [
    "s='00101110011'\n",
    "s = s.replace(\"01\", \"0 1\")\n",
    "print(s)\n",
    "s = s.replace(\"10\", \"1 0\")\n",
    "print(s)\n",
    "s = s.split()\n",
    "print(s)\n",
    "l = list(map(len, s))\n",
    "res = 0\n",
    "for a, b in zip(l, l[1:]):\n",
    "    res += min(a, b)\n",
    "print(res)\n",
    "\n"
   ]
  },
  {
   "cell_type": "code",
   "execution_count": 27,
   "metadata": {},
   "outputs": [
    {
     "name": "stdout",
     "output_type": "stream",
     "text": [
      "1994\n"
     ]
    }
   ],
   "source": [
    "s = \"MCMXCIV\"\n",
    "d = {'I':1, 'V':5, 'X':10, 'L':50, 'C':100, 'D':500, 'M':1000}\n",
    "res = 0\n",
    "for i in range(len(s)):\n",
    "    if i<len(s)-1 and d[s[i]]<d[s[i+1]]:\n",
    "        res -= d[s[i]]\n",
    "    else:\n",
    "        res += d[s[i]]\n",
    "print(res)"
   ]
  },
  {
   "cell_type": "code",
   "execution_count": 40,
   "metadata": {},
   "outputs": [
    {
     "name": "stdout",
     "output_type": "stream",
     "text": [
      "['let1 art can', 'let3 art zero', 'let2 own kit dig', 'dig1 8 1 5 1', 'dig2 3 6']\n"
     ]
    }
   ],
   "source": [
    "logs = [\"dig1 8 1 5 1\",\"let1 art can\",\"dig2 3 6\",\"let2 own kit dig\",\"let3 art zero\"]\n",
    "res = sorted(logs, key = lambda l: '0'+\" \".join(l.split()[1:])+l.split()[0] if l.split()[1].isalpha() else '1')\n",
    "print(res)"
   ]
  },
  {
   "cell_type": "code",
   "execution_count": 38,
   "metadata": {},
   "outputs": [
    {
     "data": {
      "text/plain": [
       "'0art canlet1'"
      ]
     },
     "execution_count": 38,
     "metadata": {},
     "output_type": "execute_result"
    }
   ],
   "source": [
    "s = \"let1 art can\"\n",
    "fn = lambda s: '0'+\" \".join(s.split()[1:])+s.split()[0]\n",
    "fn(s)"
   ]
  },
  {
   "cell_type": "code",
   "execution_count": 20,
   "metadata": {},
   "outputs": [
    {
     "data": {
      "text/plain": [
       "'0art canlet1'"
      ]
     },
     "execution_count": 20,
     "metadata": {},
     "output_type": "execute_result"
    }
   ],
   "source": [
    "s = \"let1 art can\"\n",
    "'0'+ ' '.join(s.split()[1:]) + s.split()[0]"
   ]
  },
  {
   "cell_type": "code",
   "execution_count": 36,
   "metadata": {},
   "outputs": [
    {
     "data": {
      "text/plain": [
       "True"
      ]
     },
     "execution_count": 36,
     "metadata": {},
     "output_type": "execute_result"
    }
   ],
   "source": [
    "s = \"let1 art can\"\n",
    "s1 = \"122\"\n",
    "# print(dir(s))\n",
    "# print(help(str.isalnum))\n",
    "s1.isalnum()"
   ]
  },
  {
   "cell_type": "code",
   "execution_count": 5,
   "metadata": {},
   "outputs": [
    {
     "data": {
      "text/plain": [
       "False"
      ]
     },
     "execution_count": 5,
     "metadata": {},
     "output_type": "execute_result"
    }
   ],
   "source": [
    "# s = 'USA'\n",
    "s1 = 'usAa'\n",
    "# print(dir(s))\n",
    "# s.isupper()\n",
    "s1.islower()"
   ]
  },
  {
   "cell_type": "code",
   "execution_count": 33,
   "metadata": {},
   "outputs": [
    {
     "data": {
      "text/plain": [
       "['Meeting with boss', 'Take out trash']"
      ]
     },
     "execution_count": 33,
     "metadata": {},
     "output_type": "execute_result"
    }
   ],
   "source": [
    "lst = [\n",
    "    {\n",
    "    'id': 1,\n",
    "    'text': \"Dentist appt\",\n",
    "    'is_completed': False\n",
    "    },\n",
    "    {\n",
    "    'id': 2,\n",
    "    'text': \"Meeting with boss\",\n",
    "    'is_completed': True\n",
    "    },\n",
    "    {\n",
    "    'id': 1,\n",
    "    'text': \"Take out trash\",\n",
    "    'is_completed': True\n",
    "    },\n",
    "    \n",
    "]\n",
    "\n",
    "lst[0]['text']\n",
    "\n",
    "# list(map(lambda s:s['text'], lst))\n",
    "\n",
    "list(map(lambda s:s['text'], list(filter(lambda s:s['is_completed'], lst))))\n",
    "\n",
    "\n",
    "\n",
    "\n"
   ]
  },
  {
   "cell_type": "code",
   "execution_count": 23,
   "metadata": {},
   "outputs": [
    {
     "name": "stdout",
     "output_type": "stream",
     "text": [
      "Counter({'a': 2, 'c': 1, 'd': 1})\n",
      "Counter({'c': 3, 'd': 3, 'a': 2, 'b': 1})\n"
     ]
    }
   ],
   "source": [
    "\n",
    "import collections\n",
    "\n",
    "from collections import Counter\n",
    "\n",
    "ransom = 'aacd'\n",
    "magzine = 'aabcccddd'\n",
    "\n",
    "ran = collections.Counter(ransom)\n",
    "print(ran)\n",
    "\n",
    "mag = collections.Counter(magzine)\n",
    "print(mag)\n",
    "\n",
    "for letter in ran:\n",
    "    if letter not in mag or ran[letter] > mag[letter]:\n",
    "        return False\n",
    "return True\n",
    "        \n",
    "\n",
    "        \n",
    "\n",
    "        \n",
    "        "
   ]
  },
  {
   "cell_type": "code",
   "execution_count": 16,
   "metadata": {},
   "outputs": [
    {
     "name": "stdout",
     "output_type": "stream",
     "text": [
      "cbadefhg\n"
     ]
    }
   ],
   "source": [
    "s = 'abcdefgh' \n",
    "k = 3\n",
    "N=len(s)\n",
    "res = ''\n",
    "pos = 0\n",
    "while pos<N:\n",
    "    nx = s[pos:pos+k]\n",
    "    res = res + nx[::-1] + s[pos+k:pos+2*k]\n",
    "    pos += 2*k\n",
    "print(res)\n",
    "\n",
    "# python can take care of out of range problem when slicing !!\n",
    "\n",
    "    \n",
    "    \n",
    "    \n",
    "    \n",
    "    "
   ]
  },
  {
   "cell_type": "code",
   "execution_count": 32,
   "metadata": {},
   "outputs": [
    {
     "data": {
      "text/plain": [
       "True"
      ]
     },
     "execution_count": 32,
     "metadata": {},
     "output_type": "execute_result"
    }
   ],
   "source": [
    "\n",
    "s = 'PPALLP'\n",
    "def fun(s):\n",
    "    return (s.count('A')<=1) & ('LLL' not in s)\n",
    "    \n",
    "fun(s)\n",
    "    "
   ]
  },
  {
   "cell_type": "code",
   "execution_count": 2,
   "metadata": {
    "scrolled": true
   },
   "outputs": [
    {
     "ename": "NameError",
     "evalue": "name 'string' is not defined",
     "output_type": "error",
     "traceback": [
      "\u001b[1;31m---------------------------------------------------------------------------\u001b[0m",
      "\u001b[1;31mNameError\u001b[0m                                 Traceback (most recent call last)",
      "\u001b[1;32m<ipython-input-2-2d7f13bbabde>\u001b[0m in \u001b[0;36m<module>\u001b[1;34m\u001b[0m\n\u001b[0;32m      1\u001b[0m \u001b[0ms\u001b[0m \u001b[1;33m=\u001b[0m \u001b[1;34m'314'\u001b[0m\u001b[1;33m\u001b[0m\u001b[1;33m\u001b[0m\u001b[0m\n\u001b[0;32m      2\u001b[0m \u001b[0mfn\u001b[0m \u001b[1;33m=\u001b[0m \u001b[1;32mlambda\u001b[0m \u001b[0mr\u001b[0m\u001b[1;33m,\u001b[0m \u001b[0mc\u001b[0m\u001b[1;33m:\u001b[0m \u001b[0mr\u001b[0m\u001b[1;33m*\u001b[0m\u001b[1;36m10\u001b[0m \u001b[1;33m+\u001b[0m \u001b[0mstring\u001b[0m\u001b[1;33m.\u001b[0m\u001b[0mdigits\u001b[0m\u001b[1;33m.\u001b[0m\u001b[0mindex\u001b[0m\u001b[1;33m(\u001b[0m\u001b[0mc\u001b[0m\u001b[1;33m)\u001b[0m\u001b[1;33m\u001b[0m\u001b[1;33m\u001b[0m\u001b[0m\n\u001b[1;32m----> 3\u001b[1;33m \u001b[0mfn\u001b[0m\u001b[1;33m(\u001b[0m\u001b[1;36m3\u001b[0m\u001b[1;33m,\u001b[0m \u001b[1;36m0\u001b[0m\u001b[1;33m)\u001b[0m\u001b[1;33m\u001b[0m\u001b[1;33m\u001b[0m\u001b[0m\n\u001b[0m",
      "\u001b[1;32m<ipython-input-2-2d7f13bbabde>\u001b[0m in \u001b[0;36m<lambda>\u001b[1;34m(r, c)\u001b[0m\n\u001b[0;32m      1\u001b[0m \u001b[0ms\u001b[0m \u001b[1;33m=\u001b[0m \u001b[1;34m'314'\u001b[0m\u001b[1;33m\u001b[0m\u001b[1;33m\u001b[0m\u001b[0m\n\u001b[1;32m----> 2\u001b[1;33m \u001b[0mfn\u001b[0m \u001b[1;33m=\u001b[0m \u001b[1;32mlambda\u001b[0m \u001b[0mr\u001b[0m\u001b[1;33m,\u001b[0m \u001b[0mc\u001b[0m\u001b[1;33m:\u001b[0m \u001b[0mr\u001b[0m\u001b[1;33m*\u001b[0m\u001b[1;36m10\u001b[0m \u001b[1;33m+\u001b[0m \u001b[0mstring\u001b[0m\u001b[1;33m.\u001b[0m\u001b[0mdigits\u001b[0m\u001b[1;33m.\u001b[0m\u001b[0mindex\u001b[0m\u001b[1;33m(\u001b[0m\u001b[0mc\u001b[0m\u001b[1;33m)\u001b[0m\u001b[1;33m\u001b[0m\u001b[1;33m\u001b[0m\u001b[0m\n\u001b[0m\u001b[0;32m      3\u001b[0m \u001b[0mfn\u001b[0m\u001b[1;33m(\u001b[0m\u001b[1;36m3\u001b[0m\u001b[1;33m,\u001b[0m \u001b[1;36m0\u001b[0m\u001b[1;33m)\u001b[0m\u001b[1;33m\u001b[0m\u001b[1;33m\u001b[0m\u001b[0m\n",
      "\u001b[1;31mNameError\u001b[0m: name 'string' is not defined"
     ]
    }
   ],
   "source": [
    "s = '314'\n",
    "fn = lambda r, c: r*10 + string.digits.index(c)\n",
    "fn(3, 0)"
   ]
  },
  {
   "cell_type": "code",
   "execution_count": 19,
   "metadata": {},
   "outputs": [
    {
     "name": "stdout",
     "output_type": "stream",
     "text": [
      "3144\n"
     ]
    },
    {
     "data": {
      "text/plain": [
       "337"
      ]
     },
     "execution_count": 19,
     "metadata": {},
     "output_type": "execute_result"
    }
   ],
   "source": [
    "num1 = '314'\n",
    "num2 = '23'\n",
    "\n",
    "def get_sum(s):\n",
    "    \n",
    "    l = [ord(ch)-48 for ch in s]\n",
    "    sum = 0\n",
    "    j = 0\n",
    "    i = len(l)\n",
    "    while i > 0:\n",
    "        sum += l[j]*10**(i-1)\n",
    "        i -= 1\n",
    "        j += 1\n",
    "    return sum\n",
    "\n",
    "print(get_sum(num))\n",
    "\n",
    "def get_res(num1, num2):\n",
    "    return get_sum(num1) + get_sum(num2)\n",
    "\n",
    "get_res(num1, num2)\n"
   ]
  },
  {
   "cell_type": "code",
   "execution_count": 29,
   "metadata": {},
   "outputs": [
    {
     "data": {
      "text/plain": [
       "314"
      ]
     },
     "execution_count": 29,
     "metadata": {},
     "output_type": "execute_result"
    }
   ],
   "source": [
    "import functools\n",
    "\n",
    "s = '-314'\n",
    "\n",
    "functools.reduce(lambda r, c: r*10 + (ord(c)-48), s[s[0] == '-':], 0)\n",
    "\n",
    "\n"
   ]
  },
  {
   "cell_type": "code",
   "execution_count": 70,
   "metadata": {
    "scrolled": true
   },
   "outputs": [
    {
     "name": "stdout",
     "output_type": "stream",
     "text": [
      "['bob', 'hit', 'a', 'ball', 'the', 'hit', 'ball', 'flew', 'far', 'after', 'it', 'was', 'hit', '']\n"
     ]
    }
   ],
   "source": [
    "import re\n",
    "p = \"Bob hit a ball, the hit BALL flew far after it was hit.\"\n",
    "banned = [\"hit\"]\n",
    "\n",
    "a = re.split(r'\\W+', p.lower())\n",
    "print(a)\n",
    "    \n",
    "\n"
   ]
  },
  {
   "cell_type": "code",
   "execution_count": 6,
   "metadata": {},
   "outputs": [
    {
     "name": "stdout",
     "output_type": "stream",
     "text": [
      "holle\n"
     ]
    }
   ],
   "source": [
    "s = list(\"hello\")\n",
    "\n",
    "\n",
    "i=0\n",
    "j=len(s)-1\n",
    "\n",
    "while i<j :\n",
    "    if s[i] in 'aeiou' and s[j] in 'aeiou':\n",
    "        s[i], s[j] = s[j], s[i]\n",
    "        i += 1\n",
    "        j -= 1\n",
    "    elif s[i] in 'aeiou':\n",
    "        j -= 1\n",
    "    elif s[j] in 'aeiou':\n",
    "        i += 1\n",
    "    else:\n",
    "        i += 1\n",
    "        j -= 1\n",
    "        \n",
    "    \n",
    "    \n",
    "print(''.join(s))"
   ]
  },
  {
   "cell_type": "code",
   "execution_count": 5,
   "metadata": {},
   "outputs": [
    {
     "data": {
      "text/plain": [
       "False"
      ]
     },
     "execution_count": 5,
     "metadata": {},
     "output_type": "execute_result"
    }
   ],
   "source": [
    "s = 'abcabcd'\n",
    "\n",
    "def fun(s):\n",
    "    res = ''\n",
    "    for i in range(len(s)//2):\n",
    "        res += s[i]\n",
    "        if len(s)%len(res) != 0:\n",
    "            continue\n",
    "        mul = len(s)//len(res)\n",
    "        if res * mul == s:\n",
    "            return True\n",
    "    return False\n",
    "\n",
    "fun(s)"
   ]
  },
  {
   "cell_type": "code",
   "execution_count": 14,
   "metadata": {},
   "outputs": [
    {
     "data": {
      "text/plain": [
       "[('a', 2), ('b', 2), ('c', 3)]"
      ]
     },
     "execution_count": 14,
     "metadata": {},
     "output_type": "execute_result"
    }
   ],
   "source": [
    "l = [\"a\",\"a\",\"b\",\"b\",\"c\",\"c\",\"c\"]\n",
    "\n",
    "from collections import Counter\n",
    "dic = Counter(l)\n",
    "list(zip([k for k, v in dic.items()],[v for k, v in dic.items()]))\n",
    "\n",
    "\n",
    "    "
   ]
  },
  {
   "cell_type": "code",
   "execution_count": null,
   "metadata": {},
   "outputs": [],
   "source": [
    "class Stack():\n",
    "    def __init__(self):\n",
    "        self.stack = list()\n",
    "        self.size = 0\n",
    "        \n",
    "    def push(self, item):\n",
    "        self.stack.append(item)\n",
    "        self.size += 1\n",
    "        \n",
    "    def pop(self):\n",
    "        self.size -= 1\n",
    "        return self.stack.pop()\n",
    "        \n",
    "def check_brackets(s):\n",
    "    stack = Stack\n",
    "    for ch in s:\n",
    "        if ch in ('(', '[', '{'):\n",
    "            stack.push(ch)\n",
    "        if ch in {')', ']', '}'}:\n",
    "            last = stack.pop()\n",
    "            if last is '(' and ch is ')':\n",
    "                continue\n",
    "            elif last is '[' and ch is ']':\n",
    "                continue\n",
    "            elif last is '{' and ch is '}':\n",
    "                continue\n",
    "            elif last is None:\n",
    "                return False\n",
    "            \n",
    "    if stack.size > 0:\n",
    "        return False\n",
    "    else:\n",
    "        return True\n",
    "                \n",
    "    "
   ]
  },
  {
   "cell_type": "code",
   "execution_count": 13,
   "metadata": {},
   "outputs": [
    {
     "data": {
      "text/plain": [
       "'fli'"
      ]
     },
     "execution_count": 13,
     "metadata": {},
     "output_type": "execute_result"
    }
   ],
   "source": [
    "S = [\"fliwer\",\"fliw\",\"flight\"]\n",
    "\n",
    "def fun(x):\n",
    "    if not S: return ''\n",
    "    m, M, i = min(S), max(S), 0\n",
    "    for i in range(min(len(m),len(M))):\n",
    "        if m[i] != M[i]: break\n",
    "        else: i += 1\n",
    "    return m[:i]\n",
    "\n",
    "fun(S)\n"
   ]
  },
  {
   "cell_type": "code",
   "execution_count": 8,
   "metadata": {},
   "outputs": [
    {
     "data": {
      "text/plain": [
       "'flower'"
      ]
     },
     "execution_count": 8,
     "metadata": {},
     "output_type": "execute_result"
    }
   ],
   "source": [
    "S = [\"flower\",\"flow\",\"flight\"]\n",
    "max(S)"
   ]
  }
 ],
 "metadata": {
  "kernelspec": {
   "display_name": "Python 3",
   "language": "python",
   "name": "python3"
  },
  "language_info": {
   "codemirror_mode": {
    "name": "ipython",
    "version": 3
   },
   "file_extension": ".py",
   "mimetype": "text/x-python",
   "name": "python",
   "nbconvert_exporter": "python",
   "pygments_lexer": "ipython3",
   "version": "3.7.5"
  }
 },
 "nbformat": 4,
 "nbformat_minor": 4
}
