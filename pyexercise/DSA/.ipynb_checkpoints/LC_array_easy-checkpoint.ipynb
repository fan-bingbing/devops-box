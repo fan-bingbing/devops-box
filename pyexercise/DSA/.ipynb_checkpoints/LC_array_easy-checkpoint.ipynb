{
 "cells": [
  {
   "cell_type": "code",
   "execution_count": 3,
   "metadata": {},
   "outputs": [
    {
     "data": {
      "text/plain": [
       "[2, 4, 4, 4, 6, 6, 6, 6, 6]"
      ]
     },
     "execution_count": 3,
     "metadata": {},
     "output_type": "execute_result"
    }
   ],
   "source": [
    "def Q1313(A):\n",
    "    M = []\n",
    "    for i in range(0,len(A)-1,2):\n",
    "        M.extend([A[i+1]]*A[i])\n",
    "    return M\n",
    "\n",
    "Q1313([1,2,3,4,5,6])\n",
    "# brute force\n",
    "#time O(n), space O(n)"
   ]
  },
  {
   "cell_type": "code",
   "execution_count": 8,
   "metadata": {},
   "outputs": [
    {
     "data": {
      "text/plain": [
       "3"
      ]
     },
     "execution_count": 8,
     "metadata": {},
     "output_type": "execute_result"
    }
   ],
   "source": [
    "def Q1295(A):\n",
    "    i = 0\n",
    "    for num in A:\n",
    "        if len(str(num)) % 2 == 0:\n",
    "            i += 1\n",
    "    return i\n",
    "Q1295([12,345,2,6,7896,4,12])"
   ]
  },
  {
   "cell_type": "code",
   "execution_count": 9,
   "metadata": {},
   "outputs": [
    {
     "data": {
      "text/plain": [
       "8"
      ]
     },
     "execution_count": 9,
     "metadata": {},
     "output_type": "execute_result"
    }
   ],
   "source": [
    "def Q1351(A):\n",
    "    i = 0\n",
    "    for row in A:\n",
    "        for num in row:\n",
    "            if num <= 0:\n",
    "                i += 1\n",
    "    return i\n",
    "\n",
    "Q1351([[4,3,2,-1],[3,2,1,-1],[1,1,-1,-2],[-1,-1,-2,-3]])"
   ]
  },
  {
   "cell_type": "code",
   "execution_count": 18,
   "metadata": {},
   "outputs": [
    {
     "data": {
      "text/plain": [
       "7"
      ]
     },
     "execution_count": 18,
     "metadata": {},
     "output_type": "execute_result"
    }
   ],
   "source": [
    "def Q1266(A):\n",
    "    x, y = A[0]\n",
    "    steps = 0\n",
    "    for i, j in A[1:]:\n",
    "        m, n = abs(x - i), abs(y - j)\n",
    "        steps += max(m, n) # key to solve this problem\n",
    "        x, y = i, j\n",
    "    return steps\n",
    "\n",
    "Q1266([[1,1],[3,4],[-1,0]])\n",
    "    "
   ]
  },
  {
   "cell_type": "code",
   "execution_count": 25,
   "metadata": {},
   "outputs": [
    {
     "data": {
      "text/plain": [
       "[1, -1, 2, -2, 3, -3]"
      ]
     },
     "execution_count": 25,
     "metadata": {},
     "output_type": "execute_result"
    }
   ],
   "source": [
    "def Q1304(n):\n",
    "    A = []\n",
    "    if n % 2 == 1:\n",
    "        A.append(0)\n",
    "    for i in range(1, n//2+1):\n",
    "        A.append(i)\n",
    "        A.append(-i)\n",
    "    return A\n",
    "\n",
    "def Q1304_a(n):\n",
    "    A = []\n",
    "    for i in range(1, n):\n",
    "        A.append(i)\n",
    "    A.append(-sum(A))\n",
    "    return A\n",
    "\n",
    "Q1304(6)\n",
    "    "
   ]
  },
  {
   "cell_type": "code",
   "execution_count": 11,
   "metadata": {
    "scrolled": true
   },
   "outputs": [
    {
     "data": {
      "text/plain": [
       "[18, 6, 6, 6, 1, -1]"
      ]
     },
     "execution_count": 11,
     "metadata": {},
     "output_type": "execute_result"
    }
   ],
   "source": [
    "def Q1299(A):\n",
    "    for i in range(len(A)-1):\n",
    "        A[i] = max(A[i+1:])\n",
    "    A[-1] = -1\n",
    "    return A\n",
    "Q1299([17,18,5,4,6,1])\n",
    "        "
   ]
  },
  {
   "cell_type": "code",
   "execution_count": 10,
   "metadata": {},
   "outputs": [
    {
     "data": {
      "text/plain": [
       "[5, 4, 6, 1]"
      ]
     },
     "execution_count": 10,
     "metadata": {},
     "output_type": "execute_result"
    }
   ],
   "source": [
    "A = [17,18,5,4,6,1]\n",
    "A[1+1:]"
   ]
  },
  {
   "cell_type": "code",
   "execution_count": 42,
   "metadata": {},
   "outputs": [
    {
     "data": {
      "text/plain": [
       "[[1, 0, 0], [0, 1, 0], [1, 1, 1]]"
      ]
     },
     "execution_count": 42,
     "metadata": {},
     "output_type": "execute_result"
    }
   ],
   "source": [
    "def Q832(A):\n",
    "    for row in A:\n",
    "        row.reverse()\n",
    "        for i in range(len(row)):\n",
    "            row[i] = 1-row[i] # how to flip integer 1 and 0\n",
    "        \n",
    "    return A\n",
    "\n",
    "Q832([[1,1,0],[1,0,1],[0,0,0]])\n",
    "\n",
    "# Input: [[1,1,0],[1,0,1],[0,0,0]]\n",
    "# Output: [[1,0,0],[0,1,0],[1,1,1]]\n",
    "\n",
    "    "
   ]
  },
  {
   "cell_type": "code",
   "execution_count": 45,
   "metadata": {},
   "outputs": [
    {
     "data": {
      "text/plain": [
       "[2, 54, 12, 13, 5, 67, 7]"
      ]
     },
     "execution_count": 45,
     "metadata": {},
     "output_type": "execute_result"
    }
   ],
   "source": [
    "def Q905(A):\n",
    "    M1 = []\n",
    "    M2 = []\n",
    "    for num in A:\n",
    "        if num % 2 == 0:\n",
    "            M1.append(num)\n",
    "        else:\n",
    "            M2.append(num)\n",
    "    return M1+M2\n",
    "Q905([3,1,2,4])\n",
    "\n",
    "# Input: [3,1,2,4]\n",
    "# Output: [2,4,3,1]\n",
    "\n",
    "def Q905_1(A):\n",
    "    even, odd = 0, len(A)-1\n",
    "    while even < odd:\n",
    "        if A[even] % 2 == 0:\n",
    "            even += 1\n",
    "        else:\n",
    "            A[even], A[odd] = A[odd], A[even]\n",
    "            odd -= 1\n",
    "    return A\n",
    "Q905_1([2,7,5,12,13,54,67])"
   ]
  },
  {
   "cell_type": "code",
   "execution_count": 49,
   "metadata": {},
   "outputs": [
    {
     "data": {
      "text/plain": [
       "[0, 1, 9, 16, 100]"
      ]
     },
     "execution_count": 49,
     "metadata": {},
     "output_type": "execute_result"
    }
   ],
   "source": [
    "def Q977(A):\n",
    "    return sorted([x**2 for x in A])\n",
    "\n",
    "# Input: [-4,-1,0,3,10]\n",
    "# Output: [0,1,9,16,100]\n",
    "\n",
    "Q977([-4,-1,0,3,10])"
   ]
  },
  {
   "cell_type": "code",
   "execution_count": 58,
   "metadata": {},
   "outputs": [
    {
     "data": {
      "text/plain": [
       "4"
      ]
     },
     "execution_count": 58,
     "metadata": {},
     "output_type": "execute_result"
    }
   ],
   "source": [
    "def Q561(A):\n",
    "    A.sort() # key to solve the problem, A must be in a Ascendant patten to get maximum calculated result\n",
    "    result = 0\n",
    "    for i in range(0,len(A),2):\n",
    "        result += min((A[i],A[i+1]))\n",
    "    return result\n",
    "\n",
    "Q561([1,4,3,2])"
   ]
  },
  {
   "cell_type": "code",
   "execution_count": 25,
   "metadata": {},
   "outputs": [
    {
     "data": {
      "text/plain": [
       "[2, 0, 3]"
      ]
     },
     "execution_count": 25,
     "metadata": {},
     "output_type": "execute_result"
    }
   ],
   "source": [
    "def Q1337(A, k):\n",
    "    M = []\n",
    "    \n",
    "    for row in A:\n",
    "        soldier = 0\n",
    "        for num in row:\n",
    "            if num == 1:\n",
    "                soldier += 1\n",
    "        M.append(soldier)\n",
    "    \n",
    "    \n",
    "    M = sorted(list(enumerate(M)),key=lambda l:l[1]) # use lambda function to sort a 2d array\n",
    "\n",
    "    \n",
    "    return  [index for index, value in M][0:k]\n",
    "        \n",
    "\n",
    "\n",
    "    \n",
    "A = [[1,1,0,0,0],\n",
    " [1,1,1,1,0],\n",
    " [1,0,0,0,0],\n",
    " [1,1,0,0,0],\n",
    " [1,1,1,1,1]]\n",
    "\n",
    "Q1337(A, k=3)\n",
    "    \n",
    "            "
   ]
  },
  {
   "cell_type": "code",
   "execution_count": 69,
   "metadata": {
    "scrolled": false
   },
   "outputs": [
    {
     "name": "stdout",
     "output_type": "stream",
     "text": [
      "(0, [1, 1, 0, 0, 0])\n",
      "(1, [1, 1, 1, 1, 0])\n",
      "(2, [1, 0, 0, 0, 0])\n",
      "(3, [1, 1, 0, 0, 0])\n",
      "(4, [1, 1, 1, 1, 1])\n"
     ]
    }
   ],
   "source": [
    "def compare(A):\n",
    "    return A[1]\n",
    "    \n",
    "            "
   ]
  },
  {
   "cell_type": "code",
   "execution_count": 4,
   "metadata": {},
   "outputs": [
    {
     "name": "stdout",
     "output_type": "stream",
     "text": [
      "[2, 1, 0, 3]\n"
     ]
    }
   ],
   "source": [
    "nums = [6,5,4,8]\n",
    "res = [0]*len(nums)\n",
    "for i in range(len(nums)):\n",
    "    for j in range(len(nums)):\n",
    "        if nums[j] < nums[i]:\n",
    "            res[i] += 1\n",
    "            \n",
    "print(res)\n",
    "            "
   ]
  },
  {
   "cell_type": "code",
   "execution_count": 7,
   "metadata": {},
   "outputs": [
    {
     "data": {
      "text/plain": [
       "[2, 1, 0, 3]"
      ]
     },
     "execution_count": 7,
     "metadata": {},
     "output_type": "execute_result"
    }
   ],
   "source": [
    "nums = [6,5,4,8]\n",
    "\n",
    "sorted_nums = sorted(nums)\n",
    "\n",
    "[sorted_nums.index(num) for num in nums]"
   ]
  },
  {
   "cell_type": "code",
   "execution_count": 14,
   "metadata": {},
   "outputs": [
    {
     "name": "stdout",
     "output_type": "stream",
     "text": [
      "[0, 4, 1, 3, 2]\n"
     ]
    }
   ],
   "source": [
    "nums = [0,1,2,3,4]\n",
    "index = [0,1,2,2,1]\n",
    "\n",
    "res = []\n",
    "\n",
    "[res.insert(ind, num) for num, ind in zip(nums, index)]\n",
    "\n",
    "print(res)\n"
   ]
  },
  {
   "cell_type": "code",
   "execution_count": 3,
   "metadata": {},
   "outputs": [
    {
     "data": {
      "text/plain": [
       "[(3, 9, 15), (7, 11, 16), (8, 13, 17)]"
      ]
     },
     "execution_count": 3,
     "metadata": {},
     "output_type": "execute_result"
    }
   ],
   "source": [
    "matrix = [[3,7,8],[9,11,13],[15,16,17]]\n",
    "list(zip(*matrix))"
   ]
  },
  {
   "cell_type": "code",
   "execution_count": 9,
   "metadata": {},
   "outputs": [
    {
     "data": {
      "text/plain": [
       "6"
      ]
     },
     "execution_count": 9,
     "metadata": {},
     "output_type": "execute_result"
    }
   ],
   "source": [
    "count, total = 0, len(arr1)\n",
    "        \n",
    "        for out in arr1:\n",
    "            for inner in arr2:\n",
    "                if abs(out - inner) <= d:\n",
    "                    count += 1\n",
    "                    brea\n",
    "        return total - count"
   ]
  },
  {
   "cell_type": "code",
   "execution_count": 3,
   "metadata": {},
   "outputs": [
    {
     "name": "stdout",
     "output_type": "stream",
     "text": [
      "[0, 1]\n"
     ]
    }
   ],
   "source": [
    "nums = [2, 7, 11, 15]\n",
    "target = 9\n",
    "res = []\n",
    "for i in range(len(nums)):\n",
    "    for j in range(i+1, len(nums)):\n",
    "        if nums[i] + nums[j] == target:\n",
    "            res.append(i)\n",
    "            res.append(j)\n",
    "print(res)\n",
    "            "
   ]
  },
  {
   "cell_type": "code",
   "execution_count": 10,
   "metadata": {},
   "outputs": [
    {
     "data": {
      "text/plain": [
       "[0, 1]"
      ]
     },
     "execution_count": 10,
     "metadata": {},
     "output_type": "execute_result"
    }
   ],
   "source": [
    "nums = [2, 7, 11, 15]\n",
    "target = 9\n",
    "[[i,j] for i in range(len(nums)) for j in range(i+1, len(nums)) if nums[i] + nums[j] == target][0]"
   ]
  },
  {
   "cell_type": "code",
   "execution_count": 21,
   "metadata": {},
   "outputs": [
    {
     "data": {
      "text/plain": [
       "[1, 0]"
      ]
     },
     "execution_count": 21,
     "metadata": {},
     "output_type": "execute_result"
    }
   ],
   "source": [
    "nums = [2, 7, 11, 15]\n",
    "target = 9\n",
    "\n",
    "def fun(a, target):\n",
    "\n",
    "    d = {}  # dict\n",
    "    for i in range(len(a)):\n",
    "        temp = target - a[i]\n",
    "        if temp in d:\n",
    "            return [i, d[temp]]\n",
    "        d[a[i]] = i\n",
    "    \n",
    "fun(nums, target)\n",
    "    "
   ]
  },
  {
   "cell_type": "code",
   "execution_count": 27,
   "metadata": {},
   "outputs": [
    {
     "data": {
      "text/plain": [
       "3"
      ]
     },
     "execution_count": 27,
     "metadata": {},
     "output_type": "execute_result"
    }
   ],
   "source": [
    "heights = [1,1,4,2,1,3]\n",
    "\n",
    "sum([a != b for a, b in zip(heights, sorted(heights))])"
   ]
  },
  {
   "cell_type": "code",
   "execution_count": 59,
   "metadata": {},
   "outputs": [
    {
     "name": "stdout",
     "output_type": "stream",
     "text": [
      "-1\n"
     ]
    }
   ],
   "source": [
    "arr = [5]\n",
    "try:\n",
    "    print([arr.count(x)  for x in sorted(arr) if x==arr.count(x) ][-1])\n",
    "except IndexError:\n",
    "    print(-1)\n",
    "    \n",
    "\n"
   ]
  },
  {
   "cell_type": "code",
   "execution_count": 55,
   "metadata": {},
   "outputs": [
    {
     "name": "stdout",
     "output_type": "stream",
     "text": [
      "[4, 2, 2, 7]\n"
     ]
    }
   ],
   "source": [
    "A = [4,2,5,7]\n",
    "A[0::2] = [a for a in A if a%2 == 0]\n",
    "print(A)\n",
    "        \n",
    "        "
   ]
  },
  {
   "cell_type": "code",
   "execution_count": 6,
   "metadata": {},
   "outputs": [
    {
     "name": "stdout",
     "output_type": "stream",
     "text": [
      "[2, 2, 2, 1, 4, 3, 3, 9, 6, 19, 7]\n"
     ]
    }
   ],
   "source": [
    "arr1 = [2,3,1,3,2,4,6,7,9,2,19]\n",
    "arr2 = [2,1,4,3,9,6]\n",
    "\n",
    "output = []\n",
    "extra_output = []\n",
    "\n",
    "from collections import Counter\n",
    "\n",
    "dic = Counter(arr1)\n",
    "\n",
    "for elem in arr2:\n",
    "    output += [elem]*dic[elem]\n",
    "    \n",
    "for elem in set(arr1)-set(arr2):\n",
    "    extra_output += [elem]*dic[elem]\n",
    "    \n",
    "print(output + extra_output)\n",
    "\n"
   ]
  },
  {
   "cell_type": "code",
   "execution_count": 36,
   "metadata": {},
   "outputs": [
    {
     "name": "stdout",
     "output_type": "stream",
     "text": [
      "1\n",
      "1\n",
      "2\n",
      "3\n",
      "5\n",
      "8\n",
      "13\n",
      "21\n",
      "34\n",
      "55\n"
     ]
    }
   ],
   "source": [
    "def fun(10\n",
    "a, b = 0, 1\n",
    "for _ in range(10):\n",
    "    a, b = b, a+b\n",
    "    print(a)\n",
    "    "
   ]
  }
 ],
 "metadata": {
  "kernelspec": {
   "display_name": "Python 3",
   "language": "python",
   "name": "python3"
  },
  "language_info": {
   "codemirror_mode": {
    "name": "ipython",
    "version": 3
   },
   "file_extension": ".py",
   "mimetype": "text/x-python",
   "name": "python",
   "nbconvert_exporter": "python",
   "pygments_lexer": "ipython3",
   "version": "3.7.5"
  }
 },
 "nbformat": 4,
 "nbformat_minor": 2
}
