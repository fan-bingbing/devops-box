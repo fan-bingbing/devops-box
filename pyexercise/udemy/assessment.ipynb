{
 "cells": [
  {
   "cell_type": "code",
   "execution_count": 6,
   "metadata": {
    "scrolled": true
   },
   "outputs": [
    {
     "data": {
      "text/plain": [
       "['start', 's', 'sentence']"
      ]
     },
     "execution_count": 6,
     "metadata": {},
     "output_type": "execute_result"
    }
   ],
   "source": [
    "st = 'Print only the words that start with s in this sentence'\n",
    "[word for word in st.split() if word[0]=='s']"
   ]
  },
  {
   "cell_type": "code",
   "execution_count": 7,
   "metadata": {},
   "outputs": [
    {
     "data": {
      "text/plain": [
       "[0, 2, 4, 6, 8, 10]"
      ]
     },
     "execution_count": 7,
     "metadata": {},
     "output_type": "execute_result"
    }
   ],
   "source": [
    "[num for num in range(11) if num%2 == 0]"
   ]
  },
  {
   "cell_type": "code",
   "execution_count": 9,
   "metadata": {},
   "outputs": [
    {
     "data": {
      "text/plain": [
       "[3, 6, 9, 12, 15, 18, 21, 24, 27, 30, 33, 36, 39, 42, 45, 48]"
      ]
     },
     "execution_count": 9,
     "metadata": {},
     "output_type": "execute_result"
    }
   ],
   "source": [
    "[num for num in range(1, 51) if num%3 == 0]"
   ]
  },
  {
   "cell_type": "code",
   "execution_count": 12,
   "metadata": {
    "scrolled": true
   },
   "outputs": [
    {
     "data": {
      "text/plain": [
       "['Print',\n",
       " 'every',\n",
       " 'EVEN',\n",
       " 'EVEN',\n",
       " 'EVEN',\n",
       " 'EVEN',\n",
       " 'EVEN',\n",
       " 'has',\n",
       " 'EVEN',\n",
       " 'EVEN',\n",
       " 'EVEN',\n",
       " 'EVEN',\n",
       " 'letters']"
      ]
     },
     "execution_count": 12,
     "metadata": {},
     "output_type": "execute_result"
    }
   ],
   "source": [
    "st = 'Print every word in this sentence that has an even number of letters'\n",
    "['EVEN' if len(word)%2 == 0 else word for word in st.split() ]"
   ]
  },
  {
   "cell_type": "code",
   "execution_count": 18,
   "metadata": {
    "scrolled": false
   },
   "outputs": [
    {
     "name": "stdout",
     "output_type": "stream",
     "text": [
      "1\n",
      "2\n",
      "Fizz\n",
      "4\n",
      "Buzz\n",
      "Fizz\n",
      "7\n",
      "8\n",
      "Fizz\n",
      "Buzz\n"
     ]
    }
   ],
   "source": [
    "for num in range(1, 11):\n",
    "    if num%3 == 0 and num%5 == 0:\n",
    "        print(\"FizzBuzz\")\n",
    "    elif num%3 == 0:\n",
    "        print(\"Fizz\")\n",
    "    elif num%5 == 0:\n",
    "        print(\"Buzz\")\n",
    "    else:\n",
    "        print (num)"
   ]
  },
  {
   "cell_type": "code",
   "execution_count": 16,
   "metadata": {
    "scrolled": false
   },
   "outputs": [
    {
     "data": {
      "text/plain": [
       "['C', 'a', 'l', 'o', 't', 'f', 'l', 'o', 'e', 'w', 'i', 't', 's']"
      ]
     },
     "execution_count": 16,
     "metadata": {},
     "output_type": "execute_result"
    }
   ],
   "source": [
    "st = 'Create a list of the first letters of every word in this string'\n",
    "[word[0] for word in st.split()]"
   ]
  },
  {
   "cell_type": "code",
   "execution_count": 31,
   "metadata": {},
   "outputs": [
    {
     "data": {
      "text/plain": [
       "5"
      ]
     },
     "execution_count": 31,
     "metadata": {},
     "output_type": "execute_result"
    }
   ],
   "source": [
    "def compare(a, b):\n",
    "    if a%2==0 and b%2==0:\n",
    "        return min(a,b)\n",
    "    else:\n",
    "        return max(a,b)\n",
    "\n",
    "compare(2,5)\n",
    "    "
   ]
  },
  {
   "cell_type": "code",
   "execution_count": 34,
   "metadata": {},
   "outputs": [
    {
     "data": {
      "text/plain": [
       "False"
      ]
     },
     "execution_count": 34,
     "metadata": {},
     "output_type": "execute_result"
    }
   ],
   "source": [
    "def animal(st):\n",
    "    li = st.split()\n",
    "    return li[0][0] == li[1][0]\n",
    "animal('haha aehe')"
   ]
  },
  {
   "cell_type": "code",
   "execution_count": 37,
   "metadata": {},
   "outputs": [
    {
     "data": {
      "text/plain": [
       "True"
      ]
     },
     "execution_count": 37,
     "metadata": {},
     "output_type": "execute_result"
    }
   ],
   "source": [
    "def numbers(a, b):\n",
    "    return a+b==20 or (20 in (a, b))\n",
    "numbers(15, 20)"
   ]
  },
  {
   "cell_type": "code",
   "execution_count": 43,
   "metadata": {},
   "outputs": [
    {
     "data": {
      "text/plain": [
       "'MacDonald'"
      ]
     },
     "execution_count": 43,
     "metadata": {},
     "output_type": "execute_result"
    }
   ],
   "source": [
    "def cap(st):\n",
    "    return st[0:3].capitalize()+st[3:].capitalize()\n",
    "cap('macdonald')\n"
   ]
  },
  {
   "cell_type": "code",
   "execution_count": 51,
   "metadata": {},
   "outputs": [
    {
     "data": {
      "text/plain": [
       "'here are you'"
      ]
     },
     "execution_count": 51,
     "metadata": {},
     "output_type": "execute_result"
    }
   ],
   "source": [
    "def reverse(st):\n",
    "    return ' '.join(st.split()[::-1])\n",
    "reverse('you are here')"
   ]
  },
  {
   "cell_type": "code",
   "execution_count": 58,
   "metadata": {},
   "outputs": [
    {
     "data": {
      "text/plain": [
       "True"
      ]
     },
     "execution_count": 58,
     "metadata": {},
     "output_type": "execute_result"
    }
   ],
   "source": [
    "def check(n):\n",
    "    return abs(n-100)<=10 or abs(n-200)<=10\n",
    "check(209)"
   ]
  },
  {
   "cell_type": "code",
   "execution_count": 7,
   "metadata": {},
   "outputs": [
    {
     "data": {
      "text/plain": [
       "False"
      ]
     },
     "execution_count": 7,
     "metadata": {},
     "output_type": "execute_result"
    }
   ],
   "source": [
    "lst = [3,1,3]\n",
    "def has_33(lst):\n",
    "    for i in range(0, len(lst)-1):\n",
    "        if lst[i:i+2] == [3,3]:\n",
    "            return True\n",
    "    return False\n",
    "has_33(lst)\n"
   ]
  },
  {
   "cell_type": "code",
   "execution_count": 17,
   "metadata": {},
   "outputs": [
    {
     "data": {
      "text/plain": [
       "'hhheeellllllooo'"
      ]
     },
     "execution_count": 17,
     "metadata": {},
     "output_type": "execute_result"
    }
   ],
   "source": [
    "st = 'hello'\n",
    "def paper_doll(st):\n",
    "    return ''.join([ch*3 for ch in st])\n",
    "paper_doll(st)"
   ]
  },
  {
   "cell_type": "code",
   "execution_count": 5,
   "metadata": {},
   "outputs": [
    {
     "data": {
      "text/plain": [
       "19"
      ]
     },
     "execution_count": 5,
     "metadata": {},
     "output_type": "execute_result"
    }
   ],
   "source": [
    "def blackjack(a, b, c):\n",
    "    if sum((a,b,c))<= 21:\n",
    "        return sum((a,b,c))\n",
    "    elif 11 in (a,b,c) and a+b+c<= 31 :\n",
    "        return sum((a,b,c))-10\n",
    "    else:\n",
    "        return 'BUST'\n",
    "blackjack(9,9,11)\n"
   ]
  },
  {
   "cell_type": "code",
   "execution_count": 10,
   "metadata": {},
   "outputs": [
    {
     "data": {
      "text/plain": [
       "14"
      ]
     },
     "execution_count": 10,
     "metadata": {},
     "output_type": "execute_result"
    }
   ],
   "source": [
    "\n",
    "\n",
    "def summer_69(lst):\n",
    "    sum=0\n",
    "    add=True\n",
    "    for num in lst:\n",
    "        while add:\n",
    "            if num != 6:\n",
    "                sum+=num\n",
    "                break\n",
    "            else:\n",
    "                add=False\n",
    "        while not add:\n",
    "            if num !=9:\n",
    "                break\n",
    "            else:\n",
    "                add=True\n",
    "                break\n",
    "    return sum\n",
    "summer_69([2, 1, 6, 9, 11])"
   ]
  },
  {
   "cell_type": "code",
   "execution_count": 14,
   "metadata": {},
   "outputs": [
    {
     "data": {
      "text/plain": [
       "False"
      ]
     },
     "execution_count": 14,
     "metadata": {},
     "output_type": "execute_result"
    }
   ],
   "source": [
    "\n",
    "def spy_game(lst):\n",
    "    code = [0,0,7,'x']\n",
    "    for num in lst:\n",
    "        if num == code[0]:\n",
    "            code.pop(0)\n",
    "    return len(code) == 1\n",
    "\n",
    "spy_game([1,7,2,0,4,5,0])"
   ]
  },
  {
   "cell_type": "code",
   "execution_count": 23,
   "metadata": {},
   "outputs": [
    {
     "name": "stdout",
     "output_type": "stream",
     "text": [
      "[2, 3, 5, 7, 11, 13, 17, 19, 23, 29, 31, 37, 41, 43, 47, 53, 59, 61, 67, 71, 73, 79, 83, 89, 97]\n"
     ]
    },
    {
     "data": {
      "text/plain": [
       "25"
      ]
     },
     "execution_count": 23,
     "metadata": {},
     "output_type": "execute_result"
    }
   ],
   "source": [
    "def count_primes(num):\n",
    "    primes = [2]\n",
    "    x = 3\n",
    "    if num < 2:  # for the case of num = 0 or 1\n",
    "        return 0\n",
    "    while x <= num:\n",
    "        for y in range(3,x,2):  # test all odd factors up to x-1\n",
    "            if x%y == 0:\n",
    "                x += 2\n",
    "                break\n",
    "        else:\n",
    "            primes.append(x)\n",
    "            x += 2\n",
    "    print(primes)\n",
    "    return len(primes)\n",
    "\n",
    "count_primes(100)\n",
    "    "
   ]
  },
  {
   "cell_type": "code",
   "execution_count": 6,
   "metadata": {},
   "outputs": [
    {
     "data": {
      "text/plain": [
       "[1, 4, 9, 16, 25]"
      ]
     },
     "execution_count": 6,
     "metadata": {},
     "output_type": "execute_result"
    }
   ],
   "source": [
    "def square(num):\n",
    "    return num**2\n",
    "lst = [1,2,3,4,5]\n",
    "list(map(square, lst))\n",
    "\n"
   ]
  },
  {
   "cell_type": "code",
   "execution_count": 7,
   "metadata": {},
   "outputs": [
    {
     "data": {
      "text/plain": [
       "[1, 4, 9, 16, 25]"
      ]
     },
     "execution_count": 7,
     "metadata": {},
     "output_type": "execute_result"
    }
   ],
   "source": [
    "list(map(lambda x:x**2, lst))"
   ]
  },
  {
   "cell_type": "code",
   "execution_count": 2,
   "metadata": {},
   "outputs": [
    {
     "data": {
      "text/plain": [
       "['EVEN', 'C', 'S', 'K', 'EVEN']"
      ]
     },
     "execution_count": 2,
     "metadata": {},
     "output_type": "execute_result"
    }
   ],
   "source": [
    "def splicer(st):\n",
    "    if len(st) % 2 == 0:\n",
    "        return 'EVEN'\n",
    "    else:\n",
    "        return st[0]\n",
    "mynames = ['John','Cindy','Sarah','Kelly','Mike']\n",
    "list(map(splicer, mynames))"
   ]
  },
  {
   "cell_type": "code",
   "execution_count": 3,
   "metadata": {},
   "outputs": [
    {
     "data": {
      "text/plain": [
       "[0, 2, 4, 6, 8, 10]"
      ]
     },
     "execution_count": 3,
     "metadata": {},
     "output_type": "execute_result"
    }
   ],
   "source": [
    "def check_even(num):\n",
    "    return num % 2 == 0\n",
    "\n",
    "nums = [0,1,2,3,4,5,6,7,8,9,10]\n",
    "\n",
    "list(filter(check_even, nums))\n"
   ]
  },
  {
   "cell_type": "code",
   "execution_count": 9,
   "metadata": {},
   "outputs": [
    {
     "data": {
      "text/plain": [
       "[0, 2, 4, 6, 8, 10]"
      ]
     },
     "execution_count": 9,
     "metadata": {},
     "output_type": "execute_result"
    }
   ],
   "source": [
    "list(filter(lambda x:x%2==0, nums))"
   ]
  },
  {
   "cell_type": "code",
   "execution_count": null,
   "metadata": {},
   "outputs": [],
   "source": [
    "x = 50\n",
    "\n",
    "def func(x):\n",
    "    print('x is', x)\n",
    "    x = 2\n",
    "    print('Changed local x to', x)\n",
    "\n",
    "func(x)\n",
    "print('x is still', x)"
   ]
  },
  {
   "cell_type": "code",
   "execution_count": 1,
   "metadata": {},
   "outputs": [
    {
     "data": {
      "text/plain": [
       "6.0"
      ]
     },
     "execution_count": 1,
     "metadata": {},
     "output_type": "execute_result"
    }
   ],
   "source": [
    "def myfunc(*args):\n",
    "    return sum(args)*.05\n",
    "\n",
    "myfunc(40,60,20)\n"
   ]
  },
  {
   "cell_type": "code",
   "execution_count": 14,
   "metadata": {},
   "outputs": [
    {
     "name": "stdout",
     "output_type": "stream",
     "text": [
      "{'mystuff': 'banana'}\n"
     ]
    }
   ],
   "source": [
    "def myfunc(**kwargs):\n",
    "    if \"myfruit\" in kwargs:\n",
    "        print(f\"my favorite fruit is: {kwargs['myfruit']}\")\n",
    "    else:\n",
    "        print(kwargs)\n",
    "\n",
    "myfunc(mystuff='banana')"
   ]
  },
  {
   "cell_type": "code",
   "execution_count": 4,
   "metadata": {},
   "outputs": [
    {
     "name": "stdout",
     "output_type": "stream",
     "text": [
      "33.510321638291124\n"
     ]
    }
   ],
   "source": [
    "def vol(rad):\n",
    "    import math\n",
    "    return 4*(math.pi*rad**3)/3\n",
    "print(vol(2))"
   ]
  },
  {
   "cell_type": "code",
   "execution_count": 8,
   "metadata": {},
   "outputs": [
    {
     "data": {
      "text/plain": [
       "True"
      ]
     },
     "execution_count": 8,
     "metadata": {},
     "output_type": "execute_result"
    }
   ],
   "source": [
    "def ran_check(num,low,high):\n",
    "    return num-low>=0 and num-high<=0\n",
    "ran_check(3,2,7)"
   ]
  },
  {
   "cell_type": "code",
   "execution_count": 18,
   "metadata": {
    "scrolled": true
   },
   "outputs": [
    {
     "name": "stdout",
     "output_type": "stream",
     "text": [
      "No. of Lower case characters :  33\n",
      "No. of Upper case characters :  4\n"
     ]
    }
   ],
   "source": [
    "s = 'Hello Mr. Rogers, how are you this fine Tuesday?'\n",
    "\n",
    "def up_low(s):\n",
    "    lower = 0\n",
    "    upper = 0\n",
    "    for word in s.split():\n",
    "        for letter in word:\n",
    "            if letter.islower():\n",
    "                lower += 1\n",
    "            elif letter.isupper():\n",
    "                upper += 1\n",
    "            else:\n",
    "                break\n",
    "    print(f'No. of Lower case characters :  {lower}')\n",
    "    print(f'No. of Upper case characters :  {upper}')\n",
    "    \n",
    "up_low(s)"
   ]
  },
  {
   "cell_type": "code",
   "execution_count": 22,
   "metadata": {},
   "outputs": [
    {
     "data": {
      "text/plain": [
       "[1, 2, 3, 4, 5]"
      ]
     },
     "execution_count": 22,
     "metadata": {},
     "output_type": "execute_result"
    }
   ],
   "source": [
    "sample = [1,1,1,1,2,2,3,3,3,3,4,5]\n",
    "\n",
    "def unique_list(lst):\n",
    "    return list(set(lst))\n",
    "\n",
    "unique_list(lst=sample)\n"
   ]
  },
  {
   "cell_type": "code",
   "execution_count": 25,
   "metadata": {},
   "outputs": [
    {
     "data": {
      "text/plain": [
       "True"
      ]
     },
     "execution_count": 25,
     "metadata": {},
     "output_type": "execute_result"
    }
   ],
   "source": [
    "def palindrome(s):\n",
    "    return s == s[::-1]\n",
    "\n",
    "palindrome('helleh')"
   ]
  },
  {
   "cell_type": "code",
   "execution_count": 30,
   "metadata": {},
   "outputs": [
    {
     "data": {
      "text/plain": [
       "48"
      ]
     },
     "execution_count": 30,
     "metadata": {},
     "output_type": "execute_result"
    }
   ],
   "source": [
    "def multiply(numbers):  \n",
    "    result = 1\n",
    "    for num in numbers:\n",
    "        result *= num\n",
    "    return result\n",
    "    \n",
    "multiply([1, 2, 3, -4, -1, 2])\n",
    "\n",
    "\n",
    "    "
   ]
  },
  {
   "cell_type": "code",
   "execution_count": 31,
   "metadata": {},
   "outputs": [
    {
     "data": {
      "text/plain": [
       "'abcdefghijklmnopqrstuvwxyz'"
      ]
     },
     "execution_count": 31,
     "metadata": {},
     "output_type": "execute_result"
    }
   ],
   "source": [
    "\n",
    "string.ascii_lowercase"
   ]
  },
  {
   "cell_type": "code",
   "execution_count": 48,
   "metadata": {},
   "outputs": [
    {
     "data": {
      "text/plain": [
       "True"
      ]
     },
     "execution_count": 48,
     "metadata": {},
     "output_type": "execute_result"
    }
   ],
   "source": [
    "txt = \"The quick brown fox jumps over the lazy dog\"\n",
    "\n",
    "def func(txt):\n",
    "    \n",
    "    import string\n",
    "    \n",
    "    al=string.ascii_lowercase\n",
    "\n",
    "    txt_set = set(txt.replace(\" \", \"\").lower())\n",
    "\n",
    "    al_set = set(al)\n",
    "\n",
    "    return txt_set == al_set\n",
    "\n",
    "func(txt)\n",
    "\n"
   ]
  },
  {
   "cell_type": "code",
   "execution_count": 2,
   "metadata": {},
   "outputs": [
    {
     "name": "stdout",
     "output_type": "stream",
     "text": [
      "TypeError: unsupported operand type(s) for ** or pow(): 'str' and 'int'\n"
     ]
    }
   ],
   "source": [
    "try:\n",
    "    for i in ['a','b','c']:\n",
    "        print(i**2)\n",
    "except TypeError:\n",
    "    print(\"TypeError: unsupported operand type(s) for ** or pow(): 'str' and 'int'\")"
   ]
  },
  {
   "cell_type": "code",
   "execution_count": 4,
   "metadata": {},
   "outputs": [
    {
     "name": "stdout",
     "output_type": "stream",
     "text": [
      "ZeroDivisionError: division by zero\n",
      "All done\n"
     ]
    }
   ],
   "source": [
    "try:\n",
    "    x = 5\n",
    "    y = 0\n",
    "    z = x/y\n",
    "except ZeroDivisionError:\n",
    "    print(\"ZeroDivisionError: division by zero\")\n",
    "finally:\n",
    "    print(\"All done\")\n"
   ]
  },
  {
   "cell_type": "code",
   "execution_count": 5,
   "metadata": {},
   "outputs": [
    {
     "ename": "ValueError",
     "evalue": "invalid literal for int() with base 10: 'jf'",
     "output_type": "error",
     "traceback": [
      "\u001b[1;31m---------------------------------------------------------------------------\u001b[0m",
      "\u001b[1;31mValueError\u001b[0m                                Traceback (most recent call last)",
      "\u001b[1;32m<ipython-input-5-4eaaaaeb95dc>\u001b[0m in \u001b[0;36m<module>\u001b[1;34m\u001b[0m\n\u001b[1;32m----> 1\u001b[1;33m \u001b[0mint\u001b[0m\u001b[1;33m(\u001b[0m\u001b[1;34m'jf'\u001b[0m\u001b[1;33m)\u001b[0m\u001b[1;33m\u001b[0m\u001b[1;33m\u001b[0m\u001b[0m\n\u001b[0m",
      "\u001b[1;31mValueError\u001b[0m: invalid literal for int() with base 10: 'jf'"
     ]
    }
   ],
   "source": [
    "int('jf')"
   ]
  },
  {
   "cell_type": "code",
   "execution_count": 6,
   "metadata": {},
   "outputs": [
    {
     "name": "stdout",
     "output_type": "stream",
     "text": [
      "input an integer: dfe\n",
      "it's not an integer, try again: \n",
      "done executing.\n",
      "input an integer: efe\n",
      "it's not an integer, try again: \n",
      "done executing.\n",
      "input an integer: fefe\n",
      "it's not an integer, try again: \n",
      "done executing.\n",
      "input an integer: 1\n",
      "Yep, it's an integer.\n",
      "done executing.\n"
     ]
    }
   ],
   "source": [
    "def ask():\n",
    "    while True:\n",
    "        try:\n",
    "            value = int(input(\"input an integer: \"))\n",
    "        except ValueError:\n",
    "            print(\"it's not an integer, try again: \")\n",
    "            continue\n",
    "        else:\n",
    "            print(\"Yep, it's an integer.\")\n",
    "            break\n",
    "        finally:\n",
    "            print(\"done executing.\")\n",
    "ask()"
   ]
  },
  {
   "cell_type": "code",
   "execution_count": 30,
   "metadata": {},
   "outputs": [
    {
     "name": "stdout",
     "output_type": "stream",
     "text": [
      "Overwriting cap.py\n"
     ]
    }
   ],
   "source": [
    "%%writefile cap.py\n",
    "import string\n",
    "def cap_text(text):\n",
    "    return string.capwords(text)"
   ]
  },
  {
   "cell_type": "code",
   "execution_count": 31,
   "metadata": {},
   "outputs": [
    {
     "name": "stdout",
     "output_type": "stream",
     "text": [
      "Overwriting test_cap.py\n"
     ]
    }
   ],
   "source": [
    "%%writefile test_cap.py\n",
    "\n",
    "import unittest\n",
    "from cap import cap_text\n",
    "\n",
    "class TestCap(unittest.TestCase):\n",
    "    \n",
    "    def test_one_word(self):\n",
    "        text = 'python'\n",
    "        result = cap_text(text)\n",
    "        self.assertEqual(result, 'Python')\n",
    "        \n",
    "    def test_multiple_words(self):\n",
    "        text = 'i love python'\n",
    "        result = cap_text(text)\n",
    "        self.assertEqual(result, 'I Love Python')\n",
    "    \n",
    "    def test_apostrophes(self):\n",
    "        text = \"i don't like python\"\n",
    "        result = cap_text(text)\n",
    "        self.assertEqual(result, \"I Don't Like Python\")\n",
    "        \n",
    "\n",
    "if __name__== '__main__':\n",
    "    unittest.main()\n",
    "        "
   ]
  },
  {
   "cell_type": "code",
   "execution_count": 32,
   "metadata": {
    "scrolled": false
   },
   "outputs": [
    {
     "name": "stderr",
     "output_type": "stream",
     "text": [
      "...\n",
      "----------------------------------------------------------------------\n",
      "Ran 3 tests in 0.000s\n",
      "\n",
      "OK\n"
     ]
    }
   ],
   "source": [
    "! python test_cap.py"
   ]
  },
  {
   "cell_type": "code",
   "execution_count": 29,
   "metadata": {},
   "outputs": [
    {
     "data": {
      "text/plain": [
       "\"I Don't Like It\""
      ]
     },
     "execution_count": 29,
     "metadata": {},
     "output_type": "execute_result"
    }
   ],
   "source": [
    "import string\n",
    "string.capwords(\"i don't like it\")"
   ]
  },
  {
   "cell_type": "code",
   "execution_count": 9,
   "metadata": {
    "scrolled": true
   },
   "outputs": [
    {
     "name": "stdout",
     "output_type": "stream",
     "text": [
      "[(1, 5), (2, 6), (3, 7), (4, 8)]\n",
      "[6, 8, 10, 12]\n",
      "[10, 12]\n",
      "42\n"
     ]
    }
   ],
   "source": [
    "from functools import reduce\n",
    "a = [1,2,3,4]\n",
    "b = [5,6,7,8]\n",
    "c = [9,10,11,12]\n",
    "print(list(zip(a,b)))\n",
    "print(list(map(lambda x,y:x+y,a,b)))\n",
    "print(list(filter(lambda x:x%2==0, c)))\n",
    "print(reduce(lambda x,y: x+y,c))"
   ]
  },
  {
   "cell_type": "code",
   "execution_count": 12,
   "metadata": {},
   "outputs": [
    {
     "name": "stdout",
     "output_type": "stream",
     "text": [
      "[('a', 'c'), ('b', 'd')]\n",
      "[('c', 1), ('d', 2)]\n"
     ]
    }
   ],
   "source": [
    "d1 = {'a':1,'b':2}\n",
    "d2 = {'c':4,'d':5}\n",
    "\n",
    "print(list(zip(d1,d2)))\n",
    "print(list(zip(d2,d1.values())))"
   ]
  },
  {
   "cell_type": "code",
   "execution_count": 15,
   "metadata": {
    "scrolled": true
   },
   "outputs": [
    {
     "name": "stdout",
     "output_type": "stream",
     "text": [
      "False\n",
      "True\n"
     ]
    }
   ],
   "source": [
    "lst = [True,True,False,True]\n",
    "print(all(lst)) \n",
    "print(any(lst))"
   ]
  },
  {
   "cell_type": "code",
   "execution_count": 17,
   "metadata": {},
   "outputs": [
    {
     "data": {
      "text/plain": [
       "[3, 4, 3, 3, 5, 2, 4, 6]"
      ]
     },
     "execution_count": 17,
     "metadata": {},
     "output_type": "execute_result"
    }
   ],
   "source": [
    "words = 'How long are the words in this phrase'\n",
    "\n",
    "list(map(lambda x:len(x),words.split()))\n"
   ]
  },
  {
   "cell_type": "code",
   "execution_count": 18,
   "metadata": {},
   "outputs": [
    {
     "data": {
      "text/plain": [
       "34321"
      ]
     },
     "execution_count": 18,
     "metadata": {},
     "output_type": "execute_result"
    }
   ],
   "source": [
    "from functools import reduce\n",
    "lst = [3,4,3,2,1]\n",
    "reduce(lambda x,y:x*10+y,lst)"
   ]
  },
  {
   "cell_type": "code",
   "execution_count": 23,
   "metadata": {},
   "outputs": [
    {
     "data": {
      "text/plain": [
       "['go']"
      ]
     },
     "execution_count": 23,
     "metadata": {},
     "output_type": "execute_result"
    }
   ],
   "source": [
    "l = ['hello','are','cat','dog','ham','hi','go','to','heart']\n",
    "def func(start='h'):\n",
    "    return list(filter(lambda x:x[0]==start, l))\n",
    "func('g')"
   ]
  },
  {
   "cell_type": "code",
   "execution_count": 31,
   "metadata": {},
   "outputs": [
    {
     "name": "stdout",
     "output_type": "stream",
     "text": [
      "[('A', 'a'), ('B', 'b')]\n"
     ]
    },
    {
     "data": {
      "text/plain": [
       "['A-a', 'B-b']"
      ]
     },
     "execution_count": 31,
     "metadata": {},
     "output_type": "execute_result"
    }
   ],
   "source": [
    "l1 = ['A', 'B']\n",
    "l2 = ['a', 'b']\n",
    "print(list(zip(l1, l2)))\n",
    "connector = '-'\n",
    "[word1+connector+word2 for word1, word2 in list(zip(l1, l2))]\n",
    "\n",
    "    "
   ]
  },
  {
   "cell_type": "code",
   "execution_count": 35,
   "metadata": {},
   "outputs": [
    {
     "data": {
      "text/plain": [
       "{'a': 0, 'b': 1, 'c': 2}"
      ]
     },
     "execution_count": 35,
     "metadata": {},
     "output_type": "execute_result"
    }
   ],
   "source": [
    "lst = ['a','b','c']\n",
    "\n",
    "{key: value for value, key in list(enumerate(lst))}\n",
    "    \n"
   ]
  },
  {
   "cell_type": "code",
   "execution_count": 38,
   "metadata": {
    "scrolled": true
   },
   "outputs": [
    {
     "data": {
      "text/plain": [
       "4"
      ]
     },
     "execution_count": 38,
     "metadata": {},
     "output_type": "execute_result"
    }
   ],
   "source": [
    "lst = [0,2,2,1,5,5,6,10]\n",
    "len([value for count, value in list(enumerate(lst)) if count==value])"
   ]
  },
  {
   "cell_type": "code",
   "execution_count": 3,
   "metadata": {
    "scrolled": true
   },
   "outputs": [
    {
     "name": "stdout",
     "output_type": "stream",
     "text": [
      "5.23\n",
      "0b10000000000\n",
      "0x400\n"
     ]
    }
   ],
   "source": [
    "print(round(5.23222, 2))\n",
    "print(bin(1024))\n",
    "print(hex(1024))"
   ]
  },
  {
   "cell_type": "code",
   "execution_count": 29,
   "metadata": {},
   "outputs": [
    {
     "name": "stdout",
     "output_type": "stream",
     "text": [
      "True\n"
     ]
    }
   ],
   "source": [
    "s = 'hello how are you mary, Are you feeling okay?'\n",
    "if len([word[0] for word in s.split() if word[0].isupper()])>=1:\n",
    "    print(True)\n",
    "else: \n",
    "    print(False)\n",
    "    "
   ]
  },
  {
   "cell_type": "code",
   "execution_count": 13,
   "metadata": {
    "scrolled": false
   },
   "outputs": [
    {
     "data": {
      "text/plain": [
       "{0: 0, 1: 1, 2: 8, 3: 27, 4: 64}"
      ]
     },
     "execution_count": 13,
     "metadata": {},
     "output_type": "execute_result"
    }
   ],
   "source": [
    "{x:pow(x, 3) for x in range(0, 5)}"
   ]
  },
  {
   "cell_type": "code",
   "execution_count": 18,
   "metadata": {
    "scrolled": true
   },
   "outputs": [
    {
     "name": "stdout",
     "output_type": "stream",
     "text": [
      "[4, 3, 2, 1]\n"
     ]
    }
   ],
   "source": [
    "print([1,2,3,4][::-1])\n"
   ]
  },
  {
   "cell_type": "code",
   "execution_count": 22,
   "metadata": {},
   "outputs": [
    {
     "name": "stdout",
     "output_type": "stream",
     "text": [
      "[4, 3, 2, 1]\n"
     ]
    }
   ],
   "source": [
    "l = [1,2,3,4,]\n",
    "l.reverse()\n",
    "print(l)\n"
   ]
  },
  {
   "cell_type": "code",
   "execution_count": 23,
   "metadata": {},
   "outputs": [
    {
     "data": {
      "text/plain": [
       "{2}"
      ]
     },
     "execution_count": 23,
     "metadata": {},
     "output_type": "execute_result"
    }
   ],
   "source": [
    "set1 = {2,3,1,5,6,8}\n",
    "set2 = {3,1,7,5,6,8}\n",
    "\n",
    "set1.difference(set2)"
   ]
  },
  {
   "cell_type": "code",
   "execution_count": 8,
   "metadata": {
    "tags": []
   },
   "outputs": [
    {
     "name": "stdout",
     "output_type": "stream",
     "text": [
      "9.433981132056603\n",
      "1.6\n"
     ]
    }
   ],
   "source": [
    "import math\n",
    "class Line():\n",
    "    def __init__(self, coor1, coor2):\n",
    "        self.coor1 = coor1\n",
    "        self.coor2 = coor2\n",
    "    def distance(self):\n",
    "        return math.sqrt((self.coor1[0]-self.coor2[0])**2 + (self.coor1[1]-self.coor2[1])**2)\n",
    "    def slop(self):\n",
    "        return abs((self.coor1[1]-self.coor2[1]))/abs((self.coor1[0]-self.coor2[0]))\n",
    "line = Line((3,2),(8,10))\n",
    "print(line.distance())\n",
    "print(line.slop())\n"
   ]
  },
  {
   "cell_type": "code",
   "execution_count": 11,
   "metadata": {
    "tags": []
   },
   "outputs": [
    {
     "name": "stdout",
     "output_type": "stream",
     "text": [
      "56.52\n",
      "94.2\n"
     ]
    }
   ],
   "source": [
    "class Cylinder():\n",
    "    pi = 3.14\n",
    "    def __init__(self, height, radius):\n",
    "        self.height = height\n",
    "        self.radius = radius\n",
    "    def volume(self):\n",
    "        return self.pi*self.height*self.radius**2\n",
    "    def surface_area(self):\n",
    "        return 2*self.pi*self.radius*(self.height+self.radius)\n",
    "\n",
    "cylinder = Cylinder(2,3)\n",
    "print(cylinder.volume())\n",
    "print(cylinder.surface_area())\n"
   ]
  },
  {
   "cell_type": "code",
   "execution_count": 6,
   "metadata": {
    "tags": []
   },
   "outputs": [
    {
     "name": "stdout",
     "output_type": "stream",
     "text": [
      "[]\n",
      "['a', 'b', 'c', 'd']\n",
      "d\n",
      "['a', 'b', 'c']\n",
      "c\n",
      "b\n",
      "a\n",
      "None\n"
     ]
    }
   ],
   "source": [
    "class Stack():\n",
    "\n",
    "    def __init__(self):\n",
    "        self.stack = list()\n",
    "        self.size = 0\n",
    "\n",
    "    def push(self, item):\n",
    "        self.stack.append(item)\n",
    "        self.size += 1\n",
    "\n",
    "    def pop(self):\n",
    "        if len(self.stack)>0:\n",
    "            return self.stack.pop()\n",
    "        else:\n",
    "            return None\n",
    "\n",
    "    def get_size(self):\n",
    "        return self.size\n",
    "\n",
    "    def __str__(self):\n",
    "        return str(self.stack)\n",
    "        \n",
    "stack = Stack()\n",
    "print(stack)\n",
    "stack.push('a')\n",
    "stack.push('b')\n",
    "stack.push('c')\n",
    "stack.push('d')\n",
    "print(stack)\n",
    "print(stack.pop())\n",
    "print(stack)\n",
    "for _ in range(4):\n",
    "    print(stack.pop())\n",
    "\n"
   ]
  },
  {
   "cell_type": "code",
   "execution_count": 13,
   "metadata": {
    "scrolled": true,
    "tags": []
   },
   "outputs": [
    {
     "name": "stdout",
     "output_type": "stream",
     "text": [
      "[]\n",
      "['a', 'b', 'c', 'd']\n",
      "a\n",
      "['b', 'c', 'd']\n"
     ]
    }
   ],
   "source": [
    "class Queue():\n",
    "\n",
    "    def __init__(self):\n",
    "        self.queue = list()\n",
    "        self.size = 0\n",
    "\n",
    "    def enqueue(self, item):\n",
    "        self.queue.append(item)\n",
    "        self.size += 1\n",
    "\n",
    "    def dequeue(self):\n",
    "        if len(self.queue)>0:\n",
    "            return self.queue.pop(0)\n",
    "        else:\n",
    "            return None\n",
    "\n",
    "    def get_size(self):\n",
    "        return self.size\n",
    "\n",
    "    def __str__(self):\n",
    "        return str(self.queue)\n",
    "\n",
    "queue = Queue()\n",
    "print(queue)\n",
    "queue.enqueue('a')\n",
    "queue.enqueue('b')\n",
    "queue.enqueue('c')\n",
    "queue.enqueue('d')\n",
    "print(queue)\n",
    "print(queue.dequeue())\n",
    "print(queue)\n"
   ]
  },
  {
   "cell_type": "code",
   "execution_count": 96,
   "metadata": {},
   "outputs": [
    {
     "name": "stdout",
     "output_type": "stream",
     "text": [
      "[1, 'a', [1, 2], (3, 4)]\n",
      "1\n",
      "a\n",
      "[1, 2]\n",
      "[(3, 4)]\n",
      "1\n"
     ]
    }
   ],
   "source": [
    "class Queue:\n",
    "    \n",
    "    def __init__(self):\n",
    "        self.stack = []\n",
    "        self.size = 0\n",
    "        \n",
    "    def enqueue(self, item):\n",
    "        self.stack.append(item)\n",
    "        self.size += 1\n",
    "        \n",
    "    def dequeue(self):\n",
    "        if self.size>0:\n",
    "            val = self.stack.pop(0)\n",
    "            self.size -= 1\n",
    "        else:\n",
    "            val = None\n",
    "        return val\n",
    "    \n",
    "    def get_size(self):\n",
    "        return self.size\n",
    "    \n",
    "    def __str__(self):\n",
    "        return str(self.stack)\n",
    "    \n",
    "queue = Queue()\n",
    "queue.enqueue(1)\n",
    "queue.enqueue('a')\n",
    "queue.enqueue([1,2])\n",
    "queue.enqueue((3,4))\n",
    "print(queue)\n",
    "print(queue.dequeue())\n",
    "print(queue.dequeue())\n",
    "print(queue.dequeue())\n",
    "print(queue)\n",
    "print(queue.size)\n",
    "\n",
    "\n",
    "        \n",
    "        \n",
    "        \n",
    "\n"
   ]
  }
 ],
 "metadata": {
  "kernelspec": {
   "display_name": "Python 3",
   "language": "python",
   "name": "python3"
  },
  "language_info": {
   "codemirror_mode": {
    "name": "ipython",
    "version": 3
   },
   "file_extension": ".py",
   "mimetype": "text/x-python",
   "name": "python",
   "nbconvert_exporter": "python",
   "pygments_lexer": "ipython3",
   "version": "3.7.5"
  }
 },
 "nbformat": 4,
 "nbformat_minor": 4
}
