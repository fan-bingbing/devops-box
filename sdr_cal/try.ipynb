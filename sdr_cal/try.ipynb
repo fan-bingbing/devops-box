{
 "cells": [
  {
   "cell_type": "code",
   "execution_count": 7,
   "metadata": {},
   "outputs": [],
   "source": [
    "# from ETS_logging.log_generator import Logging\n",
    "import yaml\n",
    "import numpy as np\n",
    "\n",
    "with open('config/run_config.yaml', \"r\") as file_descriptor:\n",
    "    run_config = yaml.load(file_descriptor, Loader=yaml.FullLoader)\n",
    "    \n",
    "# with open('config/location_config.yaml', \"r\") as file_descriptor:\n",
    "#     location_config = yaml.load(file_descriptor, Loader=yaml.FullLoader)\n",
    "    \n"
   ]
  },
  {
   "cell_type": "code",
   "execution_count": 14,
   "metadata": {},
   "outputs": [
    {
     "name": "stdout",
     "output_type": "stream",
     "text": [
      "-30.29 -0.33076\n"
     ]
    }
   ],
   "source": [
    "x = 0\n",
    "y = 0\n",
    "\n",
    "for attenuator in run_config['attenuators']:\n",
    "    x -= \\\n",
    "    np.interp(476.9e6, attenuator['xp'], attenuator['yp'])\n",
    "\n",
    "for cable in run_config['cables']:\n",
    "    y -= \\\n",
    "    np.interp(476.9e6, cable['xp'], cable['yp'])\n",
    "    \n",
    "print(x, y)"
   ]
  },
  {
   "cell_type": "code",
   "execution_count": null,
   "metadata": {},
   "outputs": [],
   "source": [
    "for x in range(0, 10):\n",
    "    "
   ]
  }
 ],
 "metadata": {
  "kernelspec": {
   "display_name": "Python 3",
   "language": "python",
   "name": "python3"
  },
  "language_info": {
   "codemirror_mode": {
    "name": "ipython",
    "version": 3
   },
   "file_extension": ".py",
   "mimetype": "text/x-python",
   "name": "python",
   "nbconvert_exporter": "python",
   "pygments_lexer": "ipython3",
   "version": "3.7.5"
  }
 },
 "nbformat": 4,
 "nbformat_minor": 4
}
